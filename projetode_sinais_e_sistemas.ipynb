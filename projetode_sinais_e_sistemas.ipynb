{
  "cells": [
    {
      "cell_type": "markdown",
      "metadata": {
        "colab_type": "text",
        "id": "view-in-github"
      },
      "source": [
        "<a href=\"https://colab.research.google.com/github/arthurzx22aa/Projeto_Sinais_e_sistemas/blob/main/projetode_sinais_e_sistemas.ipynb\" target=\"_parent\"><img src=\"https://colab.research.google.com/assets/colab-badge.svg\" alt=\"Open In Colab\"/></a>"
      ]
    },
    {
      "cell_type": "markdown",
      "metadata": {
        "id": "RcMqXMYPaVI9"
      },
      "source": [
        "#**Projeto de sinais e Sistemas**"
      ]
    },
    {
      "cell_type": "markdown",
      "metadata": {
        "id": "LEUIx_8h2iUl"
      },
      "source": [
        "###**descrição**\n",
        "\n",
        "O objetivo do nosso projeto construção de uma simples assistente eletrônica, a fim de automatizar a entrega de ração para animais de estimação, através do reconhecimento sonoro do miado ou latido.\n"
      ]
    },
    {
      "cell_type": "code",
      "execution_count": 426,
      "metadata": {
        "id": "SllQqP0KpMYj"
      },
      "outputs": [],
      "source": [
        "#importações\n",
        "%matplotlib inline\n",
        "from pathlib import Path\n",
        "import os\n",
        "import numpy as np\n",
        "import random\n",
        "import sklearn as scikit_learn\n",
        "import IPython.display as ipd\n",
        "import matplotlib.pyplot as plt\n",
        "import librosa\n",
        "import librosa.display\n",
        "import seaborn\n",
        "import matplotlib.pyplot as plt\n",
        "from sklearn.metrics import confusion_matrix, accuracy_score, precision_score\n",
        "\n",
        "\n",
        "\n",
        "from sklearn.neighbors import KNeighborsClassifier\n",
        "from sklearn.model_selection import train_test_split\n",
        "from sklearn.preprocessing import MinMaxScaler"
      ]
    },
    {
      "cell_type": "markdown",
      "metadata": {
        "id": "4tbmUvMofLof"
      },
      "source": [
        "##Extrator de features  "
      ]
    },
    {
      "cell_type": "code",
      "execution_count": 427,
      "metadata": {
        "id": "cLUFUSLy2Slt"
      },
      "outputs": [],
      "source": [
        "def get_features(x, sr):\n",
        "    features = []\n",
        "\n",
        "    #Root Mean Square Energy\n",
        "    rms = librosa.feature.zero_crossing_rate(y=x)\n",
        "    features.append(rms.mean())\n",
        "\n",
        "    # Fast Fourier Transform\n",
        "    fft = np.fft.fft(x)\n",
        "    features.append(np.mean(np.abs(fft)))\n",
        "\n",
        "    #Zero Crossing Rate\n",
        "    zcr = librosa.feature.zero_crossing_rate(y=x)\n",
        "    features.append(zcr.mean())\n",
        "\n",
        "    #Mel-frequency cepstral coefficients (MFCCs)\n",
        "    mfcc = librosa.feature.mfcc(y=x, sr= sr)\n",
        "    features.append(mfcc.mean())\n",
        "\n",
        "    #Spectral bandwidth\n",
        "    sr = librosa.feature.spectral_rolloff(y=x, sr= sr)\n",
        "    features.append(sr.mean())\n",
        "\n",
        "    return features"
      ]
    },
    {
      "cell_type": "code",
      "execution_count": 429,
      "metadata": {
        "id": "PDycQNZZWXrT"
      },
      "outputs": [],
      "source": [
        "X = []\n",
        "Y = []\n",
        "aux = []\n",
        "\n",
        "directory = './ESC-50';\n",
        "sounds = os.listdir(directory)\n",
        "\n",
        "def extract(sounds, directory):\n",
        "  X = []\n",
        "  Y = []\n",
        "  aux = []\n",
        "\n",
        "  # pegando uma parte para cada tipo de som\n",
        "  for sound in sounds:\n",
        "\n",
        "    #pengando os audios\n",
        "    path = directory+'/'+sound\n",
        "    for audio_file in os.listdir(path):\n",
        "        audio_path = path+'/'+audio_file\n",
        "        y, sr = librosa.load(audio_path)\n",
        "        aux.append([y, sr])\n",
        "\n",
        "    # Escolhendo 50 audios aleatorios de cada tipo de som\n",
        "    random.shuffle(aux)\n",
        "    for i in aux:\n",
        "        X.append(get_features(i[0], i[1]))\n",
        "        Y.append(sound)\n",
        "\n",
        "  return X, Y\n",
        "\n",
        "X, Y = extract(sounds, directory)\n",
        "\n"
      ]
    },
    {
      "cell_type": "code",
      "execution_count": 430,
      "metadata": {
        "id": "2MdNPEaVTJ9Z"
      },
      "outputs": [],
      "source": [
        "scaler = MinMaxScaler()\n",
        "scaler.fit(X)\n",
        "X = scaler.transform(X)\n",
        "\n",
        "X = np.array(X)\n",
        "Y = np.array(Y)"
      ]
    },
    {
      "cell_type": "code",
      "execution_count": 431,
      "metadata": {
        "colab": {
          "base_uri": "https://localhost:8080/"
        },
        "id": "oDa2tSmjk44i",
        "outputId": "d7142e01-fae5-4d51-d3c4-7bd8c62ddec5"
      },
      "outputs": [
        {
          "name": "stdout",
          "output_type": "stream",
          "text": [
            "(2220, 7) (2220,)\n"
          ]
        }
      ],
      "source": [
        "print(X.shape,Y.shape)"
      ]
    },
    {
      "cell_type": "code",
      "execution_count": 432,
      "metadata": {
        "id": "WcUSLlF2hDRq"
      },
      "outputs": [],
      "source": [
        "X_train, X_test, Y_train, Y_test = train_test_split(X, Y, test_size=0.2, random_state= 20)"
      ]
    },
    {
      "cell_type": "code",
      "execution_count": 437,
      "metadata": {
        "colab": {
          "base_uri": "https://localhost:8080/",
          "height": 75
        },
        "id": "65oaNyA8iYqI",
        "outputId": "982f9ac2-d935-43a2-8c9f-603327dad456"
      },
      "outputs": [
        {
          "data": {
            "text/html": [
              "<style>#sk-container-id-57 {color: black;background-color: white;}#sk-container-id-57 pre{padding: 0;}#sk-container-id-57 div.sk-toggleable {background-color: white;}#sk-container-id-57 label.sk-toggleable__label {cursor: pointer;display: block;width: 100%;margin-bottom: 0;padding: 0.3em;box-sizing: border-box;text-align: center;}#sk-container-id-57 label.sk-toggleable__label-arrow:before {content: \"▸\";float: left;margin-right: 0.25em;color: #696969;}#sk-container-id-57 label.sk-toggleable__label-arrow:hover:before {color: black;}#sk-container-id-57 div.sk-estimator:hover label.sk-toggleable__label-arrow:before {color: black;}#sk-container-id-57 div.sk-toggleable__content {max-height: 0;max-width: 0;overflow: hidden;text-align: left;background-color: #f0f8ff;}#sk-container-id-57 div.sk-toggleable__content pre {margin: 0.2em;color: black;border-radius: 0.25em;background-color: #f0f8ff;}#sk-container-id-57 input.sk-toggleable__control:checked~div.sk-toggleable__content {max-height: 200px;max-width: 100%;overflow: auto;}#sk-container-id-57 input.sk-toggleable__control:checked~label.sk-toggleable__label-arrow:before {content: \"▾\";}#sk-container-id-57 div.sk-estimator input.sk-toggleable__control:checked~label.sk-toggleable__label {background-color: #d4ebff;}#sk-container-id-57 div.sk-label input.sk-toggleable__control:checked~label.sk-toggleable__label {background-color: #d4ebff;}#sk-container-id-57 input.sk-hidden--visually {border: 0;clip: rect(1px 1px 1px 1px);clip: rect(1px, 1px, 1px, 1px);height: 1px;margin: -1px;overflow: hidden;padding: 0;position: absolute;width: 1px;}#sk-container-id-57 div.sk-estimator {font-family: monospace;background-color: #f0f8ff;border: 1px dotted black;border-radius: 0.25em;box-sizing: border-box;margin-bottom: 0.5em;}#sk-container-id-57 div.sk-estimator:hover {background-color: #d4ebff;}#sk-container-id-57 div.sk-parallel-item::after {content: \"\";width: 100%;border-bottom: 1px solid gray;flex-grow: 1;}#sk-container-id-57 div.sk-label:hover label.sk-toggleable__label {background-color: #d4ebff;}#sk-container-id-57 div.sk-serial::before {content: \"\";position: absolute;border-left: 1px solid gray;box-sizing: border-box;top: 0;bottom: 0;left: 50%;z-index: 0;}#sk-container-id-57 div.sk-serial {display: flex;flex-direction: column;align-items: center;background-color: white;padding-right: 0.2em;padding-left: 0.2em;position: relative;}#sk-container-id-57 div.sk-item {position: relative;z-index: 1;}#sk-container-id-57 div.sk-parallel {display: flex;align-items: stretch;justify-content: center;background-color: white;position: relative;}#sk-container-id-57 div.sk-item::before, #sk-container-id-57 div.sk-parallel-item::before {content: \"\";position: absolute;border-left: 1px solid gray;box-sizing: border-box;top: 0;bottom: 0;left: 50%;z-index: -1;}#sk-container-id-57 div.sk-parallel-item {display: flex;flex-direction: column;z-index: 1;position: relative;background-color: white;}#sk-container-id-57 div.sk-parallel-item:first-child::after {align-self: flex-end;width: 50%;}#sk-container-id-57 div.sk-parallel-item:last-child::after {align-self: flex-start;width: 50%;}#sk-container-id-57 div.sk-parallel-item:only-child::after {width: 0;}#sk-container-id-57 div.sk-dashed-wrapped {border: 1px dashed gray;margin: 0 0.4em 0.5em 0.4em;box-sizing: border-box;padding-bottom: 0.4em;background-color: white;}#sk-container-id-57 div.sk-label label {font-family: monospace;font-weight: bold;display: inline-block;line-height: 1.2em;}#sk-container-id-57 div.sk-label-container {text-align: center;}#sk-container-id-57 div.sk-container {/* jupyter's `normalize.less` sets `[hidden] { display: none; }` but bootstrap.min.css set `[hidden] { display: none !important; }` so we also need the `!important` here to be able to override the default hidden behavior on the sphinx rendered scikit-learn.org. See: https://github.com/scikit-learn/scikit-learn/issues/21755 */display: inline-block !important;position: relative;}#sk-container-id-57 div.sk-text-repr-fallback {display: none;}</style><div id=\"sk-container-id-57\" class=\"sk-top-container\"><div class=\"sk-text-repr-fallback\"><pre>KNeighborsClassifier(n_neighbors=1)</pre><b>In a Jupyter environment, please rerun this cell to show the HTML representation or trust the notebook. <br />On GitHub, the HTML representation is unable to render, please try loading this page with nbviewer.org.</b></div><div class=\"sk-container\" hidden><div class=\"sk-item\"><div class=\"sk-estimator sk-toggleable\"><input class=\"sk-toggleable__control sk-hidden--visually\" id=\"sk-estimator-id-57\" type=\"checkbox\" checked><label for=\"sk-estimator-id-57\" class=\"sk-toggleable__label sk-toggleable__label-arrow\">KNeighborsClassifier</label><div class=\"sk-toggleable__content\"><pre>KNeighborsClassifier(n_neighbors=1)</pre></div></div></div></div></div>"
            ],
            "text/plain": [
              "KNeighborsClassifier(n_neighbors=1)"
            ]
          },
          "execution_count": 437,
          "metadata": {},
          "output_type": "execute_result"
        }
      ],
      "source": [
        "knn_classifier = KNeighborsClassifier(n_neighbors=1)\n",
        "knn_classifier.fit(X_train, Y_train)"
      ]
    },
    {
      "cell_type": "code",
      "execution_count": 438,
      "metadata": {
        "colab": {
          "base_uri": "https://localhost:8080/"
        },
        "id": "r-3foVlRu0rU",
        "outputId": "d1997f9f-7ee8-4126-9e64-69cc651aec76"
      },
      "outputs": [
        {
          "name": "stdout",
          "output_type": "stream",
          "text": [
            "Matriz de Confusão:\n",
            "[[354  52]\n",
            " [ 36   2]]\n",
            "Acurácia: 0.8018018018018018\n",
            "['Other' 'Pet' 'Other' 'Other' 'Other' 'Other' 'Other' 'Other' 'Other'\n",
            " 'Other' 'Other' 'Other' 'Other' 'Other' 'Other' 'Other' 'Other' 'Other'\n",
            " 'Other' 'Other' 'Other' 'Other' 'Other' 'Other' 'Other' 'Other' 'Other'\n",
            " 'Other' 'Pet' 'Other' 'Other' 'Other' 'Other' 'Other' 'Other' 'Other'\n",
            " 'Other' 'Pet' 'Pet' 'Other' 'Other' 'Other' 'Other' 'Other' 'Other'\n",
            " 'Other' 'Other' 'Other' 'Other' 'Other' 'Other' 'Other' 'Other' 'Other'\n",
            " 'Other' 'Other' 'Other' 'Other' 'Other' 'Other' 'Other' 'Other' 'Other'\n",
            " 'Other' 'Other' 'Other' 'Other' 'Other' 'Other' 'Other' 'Other' 'Other'\n",
            " 'Other' 'Other' 'Other' 'Other' 'Other' 'Other' 'Other' 'Other' 'Other'\n",
            " 'Other' 'Other' 'Other' 'Other' 'Other' 'Other' 'Other' 'Other' 'Other'\n",
            " 'Pet' 'Other' 'Other' 'Pet' 'Other' 'Other' 'Other' 'Other' 'Other'\n",
            " 'Other' 'Other' 'Other' 'Other' 'Other' 'Pet' 'Other' 'Other' 'Other'\n",
            " 'Other' 'Other' 'Other' 'Other' 'Other' 'Other' 'Other' 'Other' 'Other'\n",
            " 'Other' 'Other' 'Pet' 'Other' 'Other' 'Other' 'Other' 'Other' 'Other'\n",
            " 'Other' 'Other' 'Other' 'Other' 'Other' 'Other' 'Other' 'Other' 'Other'\n",
            " 'Other' 'Other' 'Other' 'Other' 'Other' 'Other' 'Other' 'Other' 'Other'\n",
            " 'Other' 'Other' 'Other' 'Other' 'Other' 'Pet' 'Other' 'Other' 'Other'\n",
            " 'Other' 'Pet' 'Other' 'Other' 'Other' 'Other' 'Other' 'Other' 'Other'\n",
            " 'Other' 'Other' 'Other' 'Pet' 'Other' 'Other' 'Other' 'Other' 'Other'\n",
            " 'Other' 'Other' 'Other' 'Other' 'Other' 'Other' 'Other' 'Other' 'Other'\n",
            " 'Pet' 'Other' 'Other' 'Other' 'Other' 'Other' 'Other' 'Other' 'Other'\n",
            " 'Other' 'Other' 'Other' 'Other' 'Other' 'Other' 'Other' 'Other' 'Other'\n",
            " 'Other' 'Pet' 'Other' 'Other' 'Other' 'Other' 'Other' 'Other' 'Other'\n",
            " 'Other' 'Other' 'Other' 'Other' 'Other' 'Other' 'Other' 'Other' 'Other'\n",
            " 'Other' 'Pet' 'Other' 'Other' 'Other' 'Other' 'Other' 'Other' 'Other'\n",
            " 'Other' 'Other' 'Other' 'Other' 'Other' 'Other' 'Other' 'Other' 'Other'\n",
            " 'Other' 'Other' 'Other' 'Other' 'Other' 'Other' 'Other' 'Other' 'Other'\n",
            " 'Other' 'Other' 'Other' 'Other' 'Other' 'Other' 'Other' 'Other' 'Other'\n",
            " 'Other' 'Other' 'Pet' 'Other' 'Other' 'Other' 'Other' 'Other' 'Other'\n",
            " 'Other' 'Other' 'Other' 'Other' 'Other' 'Other' 'Other' 'Other' 'Other'\n",
            " 'Other' 'Other' 'Other' 'Other' 'Other' 'Other' 'Other' 'Other' 'Other'\n",
            " 'Other' 'Other' 'Other' 'Other' 'Other' 'Other' 'Other' 'Other' 'Other'\n",
            " 'Other' 'Other' 'Pet' 'Pet' 'Other' 'Other' 'Other' 'Other' 'Other'\n",
            " 'Other' 'Pet' 'Other' 'Pet' 'Pet' 'Other' 'Other' 'Other' 'Other' 'Pet'\n",
            " 'Other' 'Other' 'Other' 'Pet' 'Other' 'Other' 'Other' 'Other' 'Pet'\n",
            " 'Other' 'Pet' 'Other' 'Other' 'Other' 'Other' 'Other' 'Other' 'Pet'\n",
            " 'Other' 'Other' 'Pet' 'Other' 'Pet' 'Other' 'Other' 'Pet' 'Other' 'Other'\n",
            " 'Pet' 'Pet' 'Pet' 'Other' 'Pet' 'Other' 'Other' 'Other' 'Pet' 'Other'\n",
            " 'Other' 'Other' 'Other' 'Other' 'Other' 'Other' 'Other' 'Other' 'Other'\n",
            " 'Other' 'Other' 'Other' 'Other' 'Other' 'Other' 'Other' 'Other' 'Other'\n",
            " 'Other' 'Other' 'Other' 'Other' 'Other' 'Other' 'Other' 'Other' 'Other'\n",
            " 'Other' 'Other' 'Other' 'Other' 'Pet' 'Other' 'Other' 'Other' 'Other'\n",
            " 'Other' 'Other' 'Other' 'Other' 'Other' 'Other' 'Other' 'Other' 'Other'\n",
            " 'Other' 'Pet' 'Other' 'Other' 'Pet' 'Other' 'Other' 'Other' 'Other'\n",
            " 'Other' 'Other' 'Other' 'Other' 'Other' 'Other' 'Other' 'Other' 'Other'\n",
            " 'Other' 'Other' 'Other' 'Pet' 'Other' 'Other' 'Pet' 'Other' 'Other'\n",
            " 'Other' 'Other' 'Other' 'Other' 'Other' 'Other' 'Other' 'Other' 'Other'\n",
            " 'Other' 'Other' 'Other' 'Other' 'Other' 'Other' 'Other' 'Other' 'Other'\n",
            " 'Other' 'Other' 'Other' 'Other' 'Other' 'Other' 'Other' 'Other' 'Other']\n",
            "/n\n",
            "['Other' 'Other' 'Other' 'Other' 'Other' 'Other' 'Other' 'Other' 'Other'\n",
            " 'Other' 'Other' 'Other' 'Other' 'Other' 'Other' 'Pet' 'Other' 'Other'\n",
            " 'Pet' 'Pet' 'Other' 'Other' 'Other' 'Pet' 'Pet' 'Other' 'Other' 'Other'\n",
            " 'Other' 'Other' 'Pet' 'Other' 'Other' 'Other' 'Other' 'Pet' 'Other'\n",
            " 'Other' 'Other' 'Other' 'Other' 'Other' 'Pet' 'Other' 'Other' 'Other'\n",
            " 'Other' 'Other' 'Other' 'Other' 'Other' 'Other' 'Other' 'Other' 'Pet'\n",
            " 'Other' 'Other' 'Pet' 'Pet' 'Other' 'Other' 'Pet' 'Other' 'Other' 'Pet'\n",
            " 'Other' 'Other' 'Pet' 'Pet' 'Other' 'Other' 'Other' 'Other' 'Other'\n",
            " 'Other' 'Other' 'Other' 'Other' 'Other' 'Other' 'Other' 'Other' 'Other'\n",
            " 'Other' 'Pet' 'Other' 'Other' 'Other' 'Other' 'Other' 'Other' 'Other'\n",
            " 'Other' 'Other' 'Pet' 'Other' 'Other' 'Other' 'Other' 'Other' 'Other'\n",
            " 'Other' 'Other' 'Other' 'Other' 'Other' 'Pet' 'Pet' 'Other' 'Other'\n",
            " 'Other' 'Other' 'Other' 'Other' 'Other' 'Other' 'Other' 'Other' 'Other'\n",
            " 'Other' 'Other' 'Other' 'Pet' 'Other' 'Other' 'Other' 'Other' 'Other'\n",
            " 'Other' 'Other' 'Other' 'Other' 'Pet' 'Other' 'Other' 'Other' 'Other'\n",
            " 'Other' 'Other' 'Other' 'Other' 'Other' 'Other' 'Other' 'Other' 'Other'\n",
            " 'Pet' 'Other' 'Other' 'Other' 'Other' 'Other' 'Other' 'Other' 'Other'\n",
            " 'Other' 'Other' 'Other' 'Other' 'Other' 'Other' 'Other' 'Other' 'Other'\n",
            " 'Other' 'Other' 'Other' 'Other' 'Other' 'Other' 'Other' 'Other' 'Other'\n",
            " 'Pet' 'Other' 'Other' 'Pet' 'Other' 'Other' 'Other' 'Other' 'Other'\n",
            " 'Other' 'Other' 'Other' 'Other' 'Other' 'Other' 'Pet' 'Pet' 'Other'\n",
            " 'Other' 'Other' 'Other' 'Other' 'Other' 'Other' 'Other' 'Other' 'Other'\n",
            " 'Other' 'Other' 'Other' 'Other' 'Other' 'Other' 'Other' 'Other' 'Other'\n",
            " 'Other' 'Pet' 'Other' 'Other' 'Other' 'Pet' 'Other' 'Other' 'Other' 'Pet'\n",
            " 'Other' 'Pet' 'Other' 'Other' 'Other' 'Pet' 'Other' 'Other' 'Other' 'Pet'\n",
            " 'Other' 'Pet' 'Other' 'Other' 'Other' 'Other' 'Other' 'Other' 'Other'\n",
            " 'Other' 'Other' 'Other' 'Other' 'Other' 'Other' 'Other' 'Other' 'Other'\n",
            " 'Other' 'Other' 'Other' 'Pet' 'Other' 'Other' 'Other' 'Other' 'Pet'\n",
            " 'Other' 'Other' 'Other' 'Other' 'Other' 'Pet' 'Other' 'Other' 'Other'\n",
            " 'Other' 'Other' 'Other' 'Pet' 'Other' 'Other' 'Other' 'Other' 'Other'\n",
            " 'Other' 'Other' 'Other' 'Other' 'Other' 'Other' 'Other' 'Other' 'Other'\n",
            " 'Other' 'Other' 'Other' 'Other' 'Other' 'Other' 'Other' 'Other' 'Other'\n",
            " 'Pet' 'Other' 'Other' 'Other' 'Pet' 'Other' 'Other' 'Other' 'Pet' 'Other'\n",
            " 'Other' 'Other' 'Other' 'Other' 'Other' 'Other' 'Other' 'Other' 'Other'\n",
            " 'Other' 'Other' 'Other' 'Other' 'Other' 'Other' 'Other' 'Other' 'Other'\n",
            " 'Other' 'Other' 'Other' 'Other' 'Pet' 'Other' 'Other' 'Other' 'Other'\n",
            " 'Other' 'Other' 'Other' 'Other' 'Other' 'Other' 'Other' 'Other' 'Other'\n",
            " 'Other' 'Other' 'Other' 'Other' 'Other' 'Other' 'Other' 'Pet' 'Other'\n",
            " 'Other' 'Other' 'Pet' 'Other' 'Other' 'Other' 'Other' 'Other' 'Other'\n",
            " 'Pet' 'Other' 'Other' 'Other' 'Other' 'Other' 'Other' 'Pet' 'Other'\n",
            " 'Other' 'Other' 'Other' 'Other' 'Other' 'Other' 'Pet' 'Other' 'Other'\n",
            " 'Other' 'Other' 'Other' 'Other' 'Other' 'Other' 'Other' 'Other' 'Other'\n",
            " 'Other' 'Other' 'Other' 'Other' 'Other' 'Other' 'Other' 'Other' 'Other'\n",
            " 'Other' 'Other' 'Other' 'Other' 'Other' 'Other' 'Other' 'Other' 'Other'\n",
            " 'Other' 'Other' 'Other' 'Other' 'Other' 'Other' 'Other' 'Other' 'Pet'\n",
            " 'Other' 'Other' 'Pet' 'Other' 'Other' 'Other' 'Pet' 'Other' 'Other'\n",
            " 'Other' 'Other' 'Other' 'Other' 'Other' 'Other' 'Other' 'Other' 'Pet'\n",
            " 'Other' 'Other' 'Other' 'Pet' 'Pet' 'Other' 'Other' 'Pet' 'Other' 'Pet'\n",
            " 'Other' 'Other' 'Other' 'Other' 'Other' 'Other']\n"
          ]
        }
      ],
      "source": [
        "Y_pred = knn_classifier.predict(X_test)\n",
        "conf_matrix = confusion_matrix(Y_test, Y_pred)\n",
        "print('Matriz de Confusão:')\n",
        "print(conf_matrix)\n",
        "\n",
        "print(\"Acurácia:\", accuracy_score(Y_test, Y_pred))\n",
        "\n",
        "print(Y_test)\n",
        "print(\"/n\")\n",
        "print(Y_pred)\n",
        "\n",
        "\n",
        "\n"
      ]
    }
  ],
  "metadata": {
    "colab": {
      "authorship_tag": "ABX9TyOO6Q0bcS7TTWfySiwBkGge",
      "include_colab_link": true,
      "mount_file_id": "1_SI0bPNj53qJtNssB4y-VIVAW61pfpux",
      "provenance": []
    },
    "kernelspec": {
      "display_name": "Python 3",
      "name": "python3"
    },
    "language_info": {
      "name": "python"
    }
  },
  "nbformat": 4,
  "nbformat_minor": 0
}
